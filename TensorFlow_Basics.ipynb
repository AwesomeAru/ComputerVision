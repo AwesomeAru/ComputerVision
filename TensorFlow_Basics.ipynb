{
  "nbformat": 4,
  "nbformat_minor": 0,
  "metadata": {
    "colab": {
      "provenance": [],
      "authorship_tag": "ABX9TyPCd0jUSQqEoZyczpC4wymu",
      "include_colab_link": true
    },
    "kernelspec": {
      "name": "python3",
      "display_name": "Python 3"
    },
    "language_info": {
      "name": "python"
    }
  },
  "cells": [
    {
      "cell_type": "markdown",
      "metadata": {
        "id": "view-in-github",
        "colab_type": "text"
      },
      "source": [
        "<a href=\"https://colab.research.google.com/github/AwesomeAru/ComputerVision/blob/main/TensorFlow_Basics.ipynb\" target=\"_parent\"><img src=\"https://colab.research.google.com/assets/colab-badge.svg\" alt=\"Open In Colab\"/></a>"
      ]
    },
    {
      "cell_type": "code",
      "execution_count": null,
      "metadata": {
        "id": "k2-hjViVYY_-"
      },
      "outputs": [],
      "source": [
        "pip install tensorflow\n"
      ]
    },
    {
      "cell_type": "code",
      "source": [
        "%tensorflow_version 2.x \n",
        "import tensorflow as tf  # now import the tensorflow module\n",
        "print(tf.version) "
      ],
      "metadata": {
        "id": "z48S1jOpYw6-"
      },
      "execution_count": null,
      "outputs": []
    },
    {
      "cell_type": "code",
      "source": [
        "rank1_tensor = tf.Variable([\"Test\"], tf.string) \n",
        "rank2_tensor = tf.Variable([[\"test\", \"ok\",\"hi\",\"hi\",\"hi\",\"hi\"], [\"test\", \"yes\",\"hi\",\"hi\",\"hi\",\"hi\"],[\"test\", \"yes\",\"hi\",\"hi\",\"hi\",\"hi\"]], tf.string)"
      ],
      "metadata": {
        "id": "sOzrgXGiY-lQ"
      },
      "execution_count": 22,
      "outputs": []
    },
    {
      "cell_type": "code",
      "source": [
        "tf.rank(rank2_tensor)"
      ],
      "metadata": {
        "id": "rKnuWEZqezfL"
      },
      "execution_count": null,
      "outputs": []
    },
    {
      "cell_type": "code",
      "source": [
        "rank2_tensor.shape"
      ],
      "metadata": {
        "id": "K0UnONVsfThv"
      },
      "execution_count": null,
      "outputs": []
    }
  ]
}